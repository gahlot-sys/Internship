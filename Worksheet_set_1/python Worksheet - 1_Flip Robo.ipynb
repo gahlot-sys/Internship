{
 "cells": [
  {
   "cell_type": "markdown",
   "id": "f16e9917",
   "metadata": {},
   "source": [
    "# FIND THE FACTORIAL NUMBER"
   ]
  },
  {
   "cell_type": "code",
   "execution_count": null,
   "id": "9051fba5",
   "metadata": {},
   "outputs": [],
   "source": [
    "num = int(input(\"Enter Factorial Number  = \"))\n",
    "fac = 1\n",
    "\n",
    "if num <= 0:\n",
    "    print (\"Factorial is 1\")\n",
    "\n",
    "else: \n",
    "    print ( \"Factorial Calculation Method\")\n",
    "\n",
    "    for i in range (1, num+1):\n",
    "        \n",
    "        f = fac * i\n",
    "                  \n",
    "        print (fac, \"*\", i, \"=\", f)\n",
    "        \n",
    "        fac = f\n",
    "    \n",
    "    print (\"\\nFactorial\", num , \"is\", fac)\n",
    "    "
   ]
  },
  {
   "cell_type": "markdown",
   "id": "b012d5be",
   "metadata": {},
   "source": [
    "# FIND THE PRIME NUMBER AND COMPOSITE NUMBER"
   ]
  },
  {
   "cell_type": "code",
   "execution_count": null,
   "id": "c1a6be20",
   "metadata": {},
   "outputs": [],
   "source": [
    "number = int(input(\"Enter any number:\"))\n",
    "if number ==1:\n",
    "    print (\"This is not Prime and not Composite\")\n",
    "else:\n",
    "    for i in range(2,number):\n",
    "        if (number%i)==0:\n",
    "            print(number, \"is Composite number\")\n",
    "            break\n",
    "    else:\n",
    "            print(number, \"is prime number\")"
   ]
  },
  {
   "cell_type": "markdown",
   "id": "312317e2",
   "metadata": {},
   "source": [
    "# CHECK WHETHER A GIVEN STRING IS PALINDROME OR NOT"
   ]
  },
  {
   "cell_type": "code",
   "execution_count": null,
   "id": "d67828c2",
   "metadata": {},
   "outputs": [],
   "source": [
    "string = input(\"Enter Any Word: \")\n",
    "\n",
    "rev_string = string [::-1]\n",
    "\n",
    "if string == rev_string:\n",
    "    print (\"This Word is Palindrome\")\n",
    "    \n",
    "else:\n",
    "    \n",
    "    print (\"This Word is Not Palindrome\")"
   ]
  },
  {
   "cell_type": "markdown",
   "id": "7d3c4634",
   "metadata": {},
   "source": [
    "# FIND THE ANGLE FOR TRIANGLE"
   ]
  },
  {
   "cell_type": "code",
   "execution_count": null,
   "id": "75b4e536",
   "metadata": {},
   "outputs": [],
   "source": [
    "import math\n",
    "\n",
    "a = float(input(\"Enter the Base A = \"))\n",
    "b = float(input(\"Enter the Base B = \"))\n",
    "\n",
    "c=math.sqrt(a*a + b*b)\n",
    "print (\"3rd Side of Right Angle\", float(c))\n"
   ]
  },
  {
   "cell_type": "markdown",
   "id": "07b8d4b9",
   "metadata": {},
   "source": [
    "# FIND FREQUENCY OF EACH OF THE CHARACTER PRESENT IN A GIVEN STRING"
   ]
  },
  {
   "cell_type": "code",
   "execution_count": null,
   "id": "26210601",
   "metadata": {},
   "outputs": [],
   "source": [
    "a  = input(\"Enter any String: \")\n",
    "\n",
    "\n",
    "for x in a:\n",
    "    if x in count.keys():\n",
    "        count[x]+=1\n",
    "    else:\n",
    "        count[x]=1\n",
    "\n",
    "        \n",
    "for x in count.keys():\n",
    "    print (x, \"Number of\", count[x], \"times\")"
   ]
  },
  {
   "cell_type": "code",
   "execution_count": null,
   "id": "ce604254",
   "metadata": {},
   "outputs": [],
   "source": []
  }
 ],
 "metadata": {
  "kernelspec": {
   "display_name": "Python 3",
   "language": "python",
   "name": "python3"
  },
  "language_info": {
   "codemirror_mode": {
    "name": "ipython",
    "version": 3
   },
   "file_extension": ".py",
   "mimetype": "text/x-python",
   "name": "python",
   "nbconvert_exporter": "python",
   "pygments_lexer": "ipython3",
   "version": "3.8.8"
  }
 },
 "nbformat": 4,
 "nbformat_minor": 5
}
