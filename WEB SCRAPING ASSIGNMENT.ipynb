{
 "cells": [
  {
   "cell_type": "markdown",
   "id": "fa28aaea",
   "metadata": {},
   "source": [
    "#                                       WEB-SCRAPING-ASSIGNMENT-2"
   ]
  },
  {
   "cell_type": "code",
   "execution_count": 1,
   "id": "a32185db",
   "metadata": {},
   "outputs": [],
   "source": [
    "from bs4 import BeautifulSoup\n",
    "import requests\n",
    "import pandas as pd\n",
    "import numpy as np"
   ]
  },
  {
   "cell_type": "code",
   "execution_count": 2,
   "id": "2273ba92",
   "metadata": {},
   "outputs": [],
   "source": [
    "def verify_url(url):\n",
    "    page = requests.get(url)\n",
    "    print(page)\n",
    "    return BeautifulSoup(page.content, 'html.parser')"
   ]
  },
  {
   "cell_type": "markdown",
   "id": "a72a9a26",
   "metadata": {},
   "source": [
    "# Question 1. Write a python program to display all the header tags from‘en.wikipedia.org/wiki/Main_Page’."
   ]
  },
  {
   "cell_type": "code",
   "execution_count": 3,
   "id": "9a283be0",
   "metadata": {},
   "outputs": [],
   "source": [
    "url=\"https://en.wikipedia.org/wiki/Main_Page\""
   ]
  },
  {
   "cell_type": "code",
   "execution_count": 4,
   "id": "21ff4201",
   "metadata": {},
   "outputs": [
    {
     "name": "stdout",
     "output_type": "stream",
     "text": [
      "<Response [200]>\n"
     ]
    }
   ],
   "source": [
    "soup = verify_url(url)"
   ]
  },
  {
   "cell_type": "code",
   "execution_count": 5,
   "id": "b3b10599",
   "metadata": {},
   "outputs": [
    {
     "data": {
      "text/plain": [
       "[<span class=\"mw-headline\" id=\"From_today's_featured_article\">From today's featured article</span>,\n",
       " <span class=\"mw-headline\" id=\"Did_you_know_...\">Did you know ...</span>,\n",
       " <span class=\"mw-headline\" id=\"In_the_news\">In the news</span>,\n",
       " <span class=\"mw-headline\" id=\"On_this_day\">On this day</span>,\n",
       " <span class=\"mw-headline\" id=\"From_today's_featured_list\">From today's featured list</span>,\n",
       " <span class=\"mw-headline\" id=\"Today's_featured_picture\">Today's featured picture</span>,\n",
       " <span class=\"mw-headline\" id=\"Other_areas_of_Wikipedia\">Other areas of Wikipedia</span>,\n",
       " <span class=\"mw-headline\" id=\"Wikipedia's_sister_projects\">Wikipedia's sister projects</span>,\n",
       " <span class=\"mw-headline\" id=\"Wikipedia_languages\">Wikipedia languages</span>]"
      ]
     },
     "execution_count": 5,
     "metadata": {},
     "output_type": "execute_result"
    }
   ],
   "source": [
    "header = soup.find_all(\"span\", class_=\"mw-headline\")\n",
    "header"
   ]
  },
  {
   "cell_type": "code",
   "execution_count": 6,
   "id": "68107b4f",
   "metadata": {},
   "outputs": [
    {
     "data": {
      "text/html": [
       "<div>\n",
       "<style scoped>\n",
       "    .dataframe tbody tr th:only-of-type {\n",
       "        vertical-align: middle;\n",
       "    }\n",
       "\n",
       "    .dataframe tbody tr th {\n",
       "        vertical-align: top;\n",
       "    }\n",
       "\n",
       "    .dataframe thead th {\n",
       "        text-align: right;\n",
       "    }\n",
       "</style>\n",
       "<table border=\"1\" class=\"dataframe\">\n",
       "  <thead>\n",
       "    <tr style=\"text-align: right;\">\n",
       "      <th></th>\n",
       "      <th>Header</th>\n",
       "    </tr>\n",
       "  </thead>\n",
       "  <tbody>\n",
       "    <tr>\n",
       "      <th>0</th>\n",
       "      <td>From today's featured article</td>\n",
       "    </tr>\n",
       "    <tr>\n",
       "      <th>1</th>\n",
       "      <td>Did you know ...</td>\n",
       "    </tr>\n",
       "    <tr>\n",
       "      <th>2</th>\n",
       "      <td>In the news</td>\n",
       "    </tr>\n",
       "    <tr>\n",
       "      <th>3</th>\n",
       "      <td>On this day</td>\n",
       "    </tr>\n",
       "    <tr>\n",
       "      <th>4</th>\n",
       "      <td>From today's featured list</td>\n",
       "    </tr>\n",
       "    <tr>\n",
       "      <th>5</th>\n",
       "      <td>Today's featured picture</td>\n",
       "    </tr>\n",
       "    <tr>\n",
       "      <th>6</th>\n",
       "      <td>Other areas of Wikipedia</td>\n",
       "    </tr>\n",
       "    <tr>\n",
       "      <th>7</th>\n",
       "      <td>Wikipedia's sister projects</td>\n",
       "    </tr>\n",
       "    <tr>\n",
       "      <th>8</th>\n",
       "      <td>Wikipedia languages</td>\n",
       "    </tr>\n",
       "  </tbody>\n",
       "</table>\n",
       "</div>"
      ],
      "text/plain": [
       "                          Header\n",
       "0  From today's featured article\n",
       "1               Did you know ...\n",
       "2                    In the news\n",
       "3                    On this day\n",
       "4     From today's featured list\n",
       "5       Today's featured picture\n",
       "6       Other areas of Wikipedia\n",
       "7    Wikipedia's sister projects\n",
       "8            Wikipedia languages"
      ]
     },
     "execution_count": 6,
     "metadata": {},
     "output_type": "execute_result"
    }
   ],
   "source": [
    "Header = []\n",
    "\n",
    "for i in header:\n",
    "    Header.append(i.text)\n",
    "\n",
    "Header_Tags=pd.DataFrame()\n",
    "Header_Tags['Header']=Header\n",
    "\n",
    "Header_Tags"
   ]
  },
  {
   "cell_type": "markdown",
   "id": "b7573ac7",
   "metadata": {},
   "source": [
    "# Question 2. Write a python program to display IMDB’s Top rated 100 movies’ data (i.e. Name, IMDB rating, Year of release)."
   ]
  },
  {
   "cell_type": "code",
   "execution_count": 7,
   "id": "c401876a",
   "metadata": {},
   "outputs": [],
   "source": [
    "url = \"https://www.imdb.com/chart/top/\""
   ]
  },
  {
   "cell_type": "code",
   "execution_count": 8,
   "id": "b5c5fda3",
   "metadata": {},
   "outputs": [
    {
     "name": "stdout",
     "output_type": "stream",
     "text": [
      "<Response [200]>\n"
     ]
    }
   ],
   "source": [
    "soup = verify_url(url)"
   ]
  },
  {
   "cell_type": "code",
   "execution_count": 84,
   "id": "75d4d439",
   "metadata": {},
   "outputs": [],
   "source": [
    "movie = soup.find_all(\"td\", class_=\"titleColumn\")"
   ]
  },
  {
   "cell_type": "code",
   "execution_count": 85,
   "id": "f49f0325",
   "metadata": {},
   "outputs": [],
   "source": [
    "Movie =[] #  empty List\n",
    "\n",
    "for i in movie:\n",
    "    for j in i.find_all(\"a\"):\n",
    "        Movie.append(j.text.replace(\"\\n\",\"\"))"
   ]
  },
  {
   "cell_type": "code",
   "execution_count": 11,
   "id": "4d1af9f4",
   "metadata": {},
   "outputs": [
    {
     "data": {
      "text/plain": [
       "250"
      ]
     },
     "execution_count": 11,
     "metadata": {},
     "output_type": "execute_result"
    }
   ],
   "source": [
    "len(Movie)"
   ]
  },
  {
   "cell_type": "code",
   "execution_count": 86,
   "id": "6f1fdaaf",
   "metadata": {},
   "outputs": [],
   "source": [
    "rate = soup.find_all(\"td\", class_=\"ratingColumn imdbRating\")"
   ]
  },
  {
   "cell_type": "code",
   "execution_count": 87,
   "id": "c7dfaec4",
   "metadata": {},
   "outputs": [],
   "source": [
    "Rate =[] #  empty List\n",
    "\n",
    "for i in rate:\n",
    "    Rate.append(i.text.replace(\"\\n\", \"\"))"
   ]
  },
  {
   "cell_type": "code",
   "execution_count": 14,
   "id": "8f891575",
   "metadata": {},
   "outputs": [
    {
     "data": {
      "text/plain": [
       "250"
      ]
     },
     "execution_count": 14,
     "metadata": {},
     "output_type": "execute_result"
    }
   ],
   "source": [
    "len(Rate)"
   ]
  },
  {
   "cell_type": "code",
   "execution_count": 88,
   "id": "b967c7e4",
   "metadata": {},
   "outputs": [],
   "source": [
    "year = soup.find_all(\"span\",class_=\"secondaryInfo\")"
   ]
  },
  {
   "cell_type": "code",
   "execution_count": 89,
   "id": "2e99d7ae",
   "metadata": {},
   "outputs": [],
   "source": [
    "Year = []\n",
    "for i in year:\n",
    "     Year.append(i.text.replace(\"(\",\"\").replace(\")\",\"\"))"
   ]
  },
  {
   "cell_type": "code",
   "execution_count": 17,
   "id": "5fe83197",
   "metadata": {},
   "outputs": [
    {
     "data": {
      "text/html": [
       "<div>\n",
       "<style scoped>\n",
       "    .dataframe tbody tr th:only-of-type {\n",
       "        vertical-align: middle;\n",
       "    }\n",
       "\n",
       "    .dataframe tbody tr th {\n",
       "        vertical-align: top;\n",
       "    }\n",
       "\n",
       "    .dataframe thead th {\n",
       "        text-align: right;\n",
       "    }\n",
       "</style>\n",
       "<table border=\"1\" class=\"dataframe\">\n",
       "  <thead>\n",
       "    <tr style=\"text-align: right;\">\n",
       "      <th></th>\n",
       "      <th>Movie Name</th>\n",
       "      <th>IMDB Rating</th>\n",
       "      <th>Year of Release</th>\n",
       "    </tr>\n",
       "  </thead>\n",
       "  <tbody>\n",
       "    <tr>\n",
       "      <th>0</th>\n",
       "      <td>The Shawshank Redemption</td>\n",
       "      <td>9.2</td>\n",
       "      <td>1994</td>\n",
       "    </tr>\n",
       "    <tr>\n",
       "      <th>1</th>\n",
       "      <td>The Godfather</td>\n",
       "      <td>9.1</td>\n",
       "      <td>1972</td>\n",
       "    </tr>\n",
       "    <tr>\n",
       "      <th>2</th>\n",
       "      <td>The Godfather: Part II</td>\n",
       "      <td>9.0</td>\n",
       "      <td>1974</td>\n",
       "    </tr>\n",
       "    <tr>\n",
       "      <th>3</th>\n",
       "      <td>The Dark Knight</td>\n",
       "      <td>9.0</td>\n",
       "      <td>2008</td>\n",
       "    </tr>\n",
       "    <tr>\n",
       "      <th>4</th>\n",
       "      <td>12 Angry Men</td>\n",
       "      <td>8.9</td>\n",
       "      <td>1957</td>\n",
       "    </tr>\n",
       "    <tr>\n",
       "      <th>...</th>\n",
       "      <td>...</td>\n",
       "      <td>...</td>\n",
       "      <td>...</td>\n",
       "    </tr>\n",
       "    <tr>\n",
       "      <th>95</th>\n",
       "      <td>Jagten</td>\n",
       "      <td>8.3</td>\n",
       "      <td>2012</td>\n",
       "    </tr>\n",
       "    <tr>\n",
       "      <th>96</th>\n",
       "      <td>Requiem for a Dream</td>\n",
       "      <td>8.3</td>\n",
       "      <td>2000</td>\n",
       "    </tr>\n",
       "    <tr>\n",
       "      <th>97</th>\n",
       "      <td>Singin' in the Rain</td>\n",
       "      <td>8.3</td>\n",
       "      <td>1952</td>\n",
       "    </tr>\n",
       "    <tr>\n",
       "      <th>98</th>\n",
       "      <td>North by Northwest</td>\n",
       "      <td>8.3</td>\n",
       "      <td>1959</td>\n",
       "    </tr>\n",
       "    <tr>\n",
       "      <th>99</th>\n",
       "      <td>Eternal Sunshine of the Spotless Mind</td>\n",
       "      <td>8.3</td>\n",
       "      <td>2004</td>\n",
       "    </tr>\n",
       "  </tbody>\n",
       "</table>\n",
       "<p>100 rows × 3 columns</p>\n",
       "</div>"
      ],
      "text/plain": [
       "                               Movie Name IMDB Rating Year of Release\n",
       "0                The Shawshank Redemption         9.2            1994\n",
       "1                           The Godfather         9.1            1972\n",
       "2                  The Godfather: Part II         9.0            1974\n",
       "3                         The Dark Knight         9.0            2008\n",
       "4                            12 Angry Men         8.9            1957\n",
       "..                                    ...         ...             ...\n",
       "95                                 Jagten         8.3            2012\n",
       "96                    Requiem for a Dream         8.3            2000\n",
       "97                    Singin' in the Rain         8.3            1952\n",
       "98                     North by Northwest         8.3            1959\n",
       "99  Eternal Sunshine of the Spotless Mind         8.3            2004\n",
       "\n",
       "[100 rows x 3 columns]"
      ]
     },
     "execution_count": 17,
     "metadata": {},
     "output_type": "execute_result"
    }
   ],
   "source": [
    "top100_movies=pd.DataFrame({})\n",
    "top100_movies['Movie Name']=Movie [:100]\n",
    "top100_movies['IMDB Rating']=Rate [:100]\n",
    "top100_movies['Year of Release']=Year [:100]\n",
    "\n",
    "top100_movies"
   ]
  },
  {
   "cell_type": "markdown",
   "id": "a2645265",
   "metadata": {},
   "source": [
    "# Questions 3 : Write a python program to display IMDB’s Top rated 100 Indian movies’ data (i.e. Name, IMDB rating, Year of release)."
   ]
  },
  {
   "cell_type": "code",
   "execution_count": 18,
   "id": "05e95acc",
   "metadata": {},
   "outputs": [],
   "source": [
    "url = \"https://www.imdb.com/india/top-rated-indian-movies/\""
   ]
  },
  {
   "cell_type": "code",
   "execution_count": 19,
   "id": "d2211b89",
   "metadata": {},
   "outputs": [
    {
     "name": "stdout",
     "output_type": "stream",
     "text": [
      "<Response [200]>\n"
     ]
    }
   ],
   "source": [
    "soup = verify_url(url)"
   ]
  },
  {
   "cell_type": "code",
   "execution_count": 90,
   "id": "f49cf6c0",
   "metadata": {},
   "outputs": [],
   "source": [
    "Bollywood_movie = soup.find_all(\"td\", class_=\"titleColumn\")"
   ]
  },
  {
   "cell_type": "code",
   "execution_count": 91,
   "id": "3920ee96",
   "metadata": {},
   "outputs": [],
   "source": [
    "\n",
    "Bollywood_Movie =[] #  empty List\n",
    "\n",
    "for i in Bollywood_movie:\n",
    "    for j in i.find_all(\"a\"):\n",
    "        Bollywood_Movie.append(j.text.replace(\"\\n\",\"\"))"
   ]
  },
  {
   "cell_type": "code",
   "execution_count": 92,
   "id": "236ffc5f",
   "metadata": {},
   "outputs": [],
   "source": [
    "rate = soup.find_all(\"td\", class_=\"ratingColumn imdbRating\")"
   ]
  },
  {
   "cell_type": "code",
   "execution_count": 23,
   "id": "e5dbbc3a",
   "metadata": {},
   "outputs": [
    {
     "data": {
      "text/plain": [
       "250"
      ]
     },
     "execution_count": 23,
     "metadata": {},
     "output_type": "execute_result"
    }
   ],
   "source": [
    "len(Movie)"
   ]
  },
  {
   "cell_type": "code",
   "execution_count": 93,
   "id": "b19c27e7",
   "metadata": {},
   "outputs": [],
   "source": [
    "Rate = []\n",
    "for i in rate:\n",
    "    Rate.append(i.text.replace(\"\\n\", \"\"))"
   ]
  },
  {
   "cell_type": "code",
   "execution_count": 94,
   "id": "8dd14a49",
   "metadata": {},
   "outputs": [],
   "source": [
    "year = soup.find_all(\"span\",class_=\"secondaryInfo\")"
   ]
  },
  {
   "cell_type": "code",
   "execution_count": 26,
   "id": "15c1c803",
   "metadata": {},
   "outputs": [
    {
     "data": {
      "text/plain": [
       "250"
      ]
     },
     "execution_count": 26,
     "metadata": {},
     "output_type": "execute_result"
    }
   ],
   "source": [
    "len(rate)"
   ]
  },
  {
   "cell_type": "code",
   "execution_count": 95,
   "id": "3bf610b7",
   "metadata": {},
   "outputs": [],
   "source": [
    "Year = []\n",
    "for i in year:\n",
    "     Year.append(i.text.replace(\"(\",\"\").replace(\")\",\"\"))"
   ]
  },
  {
   "cell_type": "code",
   "execution_count": 28,
   "id": "fdf6230c",
   "metadata": {},
   "outputs": [
    {
     "data": {
      "text/plain": [
       "250"
      ]
     },
     "execution_count": 28,
     "metadata": {},
     "output_type": "execute_result"
    }
   ],
   "source": [
    "len(Year)"
   ]
  },
  {
   "cell_type": "code",
   "execution_count": 29,
   "id": "ad147b54",
   "metadata": {},
   "outputs": [
    {
     "data": {
      "text/html": [
       "<div>\n",
       "<style scoped>\n",
       "    .dataframe tbody tr th:only-of-type {\n",
       "        vertical-align: middle;\n",
       "    }\n",
       "\n",
       "    .dataframe tbody tr th {\n",
       "        vertical-align: top;\n",
       "    }\n",
       "\n",
       "    .dataframe thead th {\n",
       "        text-align: right;\n",
       "    }\n",
       "</style>\n",
       "<table border=\"1\" class=\"dataframe\">\n",
       "  <thead>\n",
       "    <tr style=\"text-align: right;\">\n",
       "      <th></th>\n",
       "      <th>Bollywood Movies Name</th>\n",
       "      <th>Bollywood Movies IMDB Rating</th>\n",
       "      <th>Bollywood Movies Year of Release</th>\n",
       "    </tr>\n",
       "  </thead>\n",
       "  <tbody>\n",
       "    <tr>\n",
       "      <th>0</th>\n",
       "      <td>The Shawshank Redemption</td>\n",
       "      <td>8.5</td>\n",
       "      <td>1987</td>\n",
       "    </tr>\n",
       "    <tr>\n",
       "      <th>1</th>\n",
       "      <td>The Godfather</td>\n",
       "      <td>8.5</td>\n",
       "      <td>2003</td>\n",
       "    </tr>\n",
       "    <tr>\n",
       "      <th>2</th>\n",
       "      <td>The Godfather: Part II</td>\n",
       "      <td>8.5</td>\n",
       "      <td>2018</td>\n",
       "    </tr>\n",
       "    <tr>\n",
       "      <th>3</th>\n",
       "      <td>The Dark Knight</td>\n",
       "      <td>8.5</td>\n",
       "      <td>2018</td>\n",
       "    </tr>\n",
       "    <tr>\n",
       "      <th>4</th>\n",
       "      <td>12 Angry Men</td>\n",
       "      <td>8.5</td>\n",
       "      <td>1979</td>\n",
       "    </tr>\n",
       "    <tr>\n",
       "      <th>...</th>\n",
       "      <td>...</td>\n",
       "      <td>...</td>\n",
       "      <td>...</td>\n",
       "    </tr>\n",
       "    <tr>\n",
       "      <th>95</th>\n",
       "      <td>Jagten</td>\n",
       "      <td>8.1</td>\n",
       "      <td>2006</td>\n",
       "    </tr>\n",
       "    <tr>\n",
       "      <th>96</th>\n",
       "      <td>Requiem for a Dream</td>\n",
       "      <td>8.1</td>\n",
       "      <td>1992</td>\n",
       "    </tr>\n",
       "    <tr>\n",
       "      <th>97</th>\n",
       "      <td>Singin' in the Rain</td>\n",
       "      <td>8.1</td>\n",
       "      <td>2001</td>\n",
       "    </tr>\n",
       "    <tr>\n",
       "      <th>98</th>\n",
       "      <td>North by Northwest</td>\n",
       "      <td>8.1</td>\n",
       "      <td>2019</td>\n",
       "    </tr>\n",
       "    <tr>\n",
       "      <th>99</th>\n",
       "      <td>Eternal Sunshine of the Spotless Mind</td>\n",
       "      <td>8.1</td>\n",
       "      <td>1994</td>\n",
       "    </tr>\n",
       "  </tbody>\n",
       "</table>\n",
       "<p>100 rows × 3 columns</p>\n",
       "</div>"
      ],
      "text/plain": [
       "                    Bollywood Movies Name Bollywood Movies IMDB Rating  \\\n",
       "0                The Shawshank Redemption                          8.5   \n",
       "1                           The Godfather                          8.5   \n",
       "2                  The Godfather: Part II                          8.5   \n",
       "3                         The Dark Knight                          8.5   \n",
       "4                            12 Angry Men                          8.5   \n",
       "..                                    ...                          ...   \n",
       "95                                 Jagten                          8.1   \n",
       "96                    Requiem for a Dream                          8.1   \n",
       "97                    Singin' in the Rain                          8.1   \n",
       "98                     North by Northwest                          8.1   \n",
       "99  Eternal Sunshine of the Spotless Mind                          8.1   \n",
       "\n",
       "   Bollywood Movies Year of Release  \n",
       "0                              1987  \n",
       "1                              2003  \n",
       "2                              2018  \n",
       "3                              2018  \n",
       "4                              1979  \n",
       "..                              ...  \n",
       "95                             2006  \n",
       "96                             1992  \n",
       "97                             2001  \n",
       "98                             2019  \n",
       "99                             1994  \n",
       "\n",
       "[100 rows x 3 columns]"
      ]
     },
     "execution_count": 29,
     "metadata": {},
     "output_type": "execute_result"
    }
   ],
   "source": [
    "Top100_Bollywood_movies=pd.DataFrame({})\n",
    "Top100_Bollywood_movies['Bollywood Movies Name']=Movie [:100]\n",
    "Top100_Bollywood_movies['Bollywood Movies IMDB Rating']=Rate [:100]\n",
    "Top100_Bollywood_movies['Bollywood Movies Year of Release']=Year [:100]\n",
    "\n",
    "Top100_Bollywood_movies"
   ]
  },
  {
   "cell_type": "markdown",
   "id": "f013e335",
   "metadata": {},
   "source": [
    "# Questions 4: Write a python program to scrap book name, author name, genre and book review of any 5 books from ‘www.bookpage.com’"
   ]
  },
  {
   "cell_type": "code",
   "execution_count": 30,
   "id": "dfbafe9f",
   "metadata": {},
   "outputs": [],
   "source": [
    "url = \"https://bookpage.com/reviews\""
   ]
  },
  {
   "cell_type": "code",
   "execution_count": 31,
   "id": "d452ea96",
   "metadata": {},
   "outputs": [
    {
     "name": "stdout",
     "output_type": "stream",
     "text": [
      "<Response [200]>\n"
     ]
    }
   ],
   "source": [
    "soup = verify_url(url)"
   ]
  },
  {
   "cell_type": "code",
   "execution_count": 96,
   "id": "6c039d06",
   "metadata": {},
   "outputs": [],
   "source": [
    "name = soup.find_all(\"h4\", class_=\"italic\")"
   ]
  },
  {
   "cell_type": "code",
   "execution_count": 97,
   "id": "57e19490",
   "metadata": {},
   "outputs": [],
   "source": [
    "Name =[] #  empty List\n",
    "\n",
    "for i in name:\n",
    "     Name.append(i.text.replace(\"\\n\",\"\"))    "
   ]
  },
  {
   "cell_type": "code",
   "execution_count": 98,
   "id": "44ab104f",
   "metadata": {},
   "outputs": [],
   "source": [
    "author = soup.find_all(\"p\",class_=\"sans bold\")"
   ]
  },
  {
   "cell_type": "code",
   "execution_count": 99,
   "id": "db1ac8b8",
   "metadata": {},
   "outputs": [],
   "source": [
    "Author =[]\n",
    "\n",
    "for i in author:\n",
    "     Author.append(i.text.replace(\"\\n\",\"\"))"
   ]
  },
  {
   "cell_type": "code",
   "execution_count": 100,
   "id": "368b1512",
   "metadata": {},
   "outputs": [],
   "source": [
    "genre = soup.find_all(\"p\", class_=\"genre-links hidden-phone\")"
   ]
  },
  {
   "cell_type": "code",
   "execution_count": 101,
   "id": "9ad77302",
   "metadata": {},
   "outputs": [],
   "source": [
    "Genre =[]\n",
    "\n",
    "for i in genre:\n",
    "     Genre.append(i.text.replace(\"\\n\",\"\"))"
   ]
  },
  {
   "cell_type": "code",
   "execution_count": 102,
   "id": "66d597ec",
   "metadata": {},
   "outputs": [],
   "source": [
    "review = soup.find_all(\"div\", class_=\"read-full\")"
   ]
  },
  {
   "cell_type": "code",
   "execution_count": 103,
   "id": "fe788376",
   "metadata": {},
   "outputs": [],
   "source": [
    "Review =[]\n",
    "\n",
    "for i in review:\n",
    "     Review.append(i.text.replace(\"\\n\",\"\"))"
   ]
  },
  {
   "cell_type": "markdown",
   "id": "2e6a349b",
   "metadata": {},
   "source": [
    "# Questions -5: Write a python program to scrape cricket rankings from ‘www.icc-cricket.com’. You have to scrape:"
   ]
  },
  {
   "cell_type": "markdown",
   "id": "ea97f16c",
   "metadata": {},
   "source": [
    "i) Top 10 ODI teams in men’s cricket along with the records for matches, points and rating."
   ]
  },
  {
   "cell_type": "code",
   "execution_count": 40,
   "id": "56cf460e",
   "metadata": {},
   "outputs": [],
   "source": [
    "url=\"https://www.icc-cricket.com/rankings/mens/team-rankings/odi\""
   ]
  },
  {
   "cell_type": "code",
   "execution_count": 41,
   "id": "095c8b9a",
   "metadata": {},
   "outputs": [
    {
     "name": "stdout",
     "output_type": "stream",
     "text": [
      "<Response [200]>\n"
     ]
    }
   ],
   "source": [
    "soup = verify_url(url)"
   ]
  },
  {
   "cell_type": "code",
   "execution_count": 42,
   "id": "721bd646",
   "metadata": {},
   "outputs": [],
   "source": [
    "team_name = soup.find_all(\"span\", class_=\"u-hide-phablet\")\n",
    "match1 = soup.find_all(\"td\", class_=\"rankings-block__banner--matches\")\n",
    "point1 = soup.find_all(\"td\", class_=\"rankings-block__banner--points\")\n",
    "match2 = soup.find_all(\"td\", class_=\"table-body__cell u-center-text\")\n",
    "rating1 = soup.find_all(\"td\", class_=\"rankings-block__banner--rating u-text-right\")\n",
    "rating2 = soup.find_all(\"td\", class_=\"table-body__cell u-text-right rating\")\n",
    "rating = rating1+rating2\n",
    "match = match1 + point1 + match2"
   ]
  },
  {
   "cell_type": "code",
   "execution_count": 43,
   "id": "de86459a",
   "metadata": {},
   "outputs": [
    {
     "data": {
      "text/html": [
       "<div>\n",
       "<style scoped>\n",
       "    .dataframe tbody tr th:only-of-type {\n",
       "        vertical-align: middle;\n",
       "    }\n",
       "\n",
       "    .dataframe tbody tr th {\n",
       "        vertical-align: top;\n",
       "    }\n",
       "\n",
       "    .dataframe thead th {\n",
       "        text-align: right;\n",
       "    }\n",
       "</style>\n",
       "<table border=\"1\" class=\"dataframe\">\n",
       "  <thead>\n",
       "    <tr style=\"text-align: right;\">\n",
       "      <th></th>\n",
       "      <th>Team_Name</th>\n",
       "    </tr>\n",
       "  </thead>\n",
       "  <tbody>\n",
       "    <tr>\n",
       "      <th>0</th>\n",
       "      <td>New Zealand</td>\n",
       "    </tr>\n",
       "    <tr>\n",
       "      <th>1</th>\n",
       "      <td>England</td>\n",
       "    </tr>\n",
       "    <tr>\n",
       "      <th>2</th>\n",
       "      <td>Australia</td>\n",
       "    </tr>\n",
       "    <tr>\n",
       "      <th>3</th>\n",
       "      <td>India</td>\n",
       "    </tr>\n",
       "    <tr>\n",
       "      <th>4</th>\n",
       "      <td>South Africa</td>\n",
       "    </tr>\n",
       "    <tr>\n",
       "      <th>5</th>\n",
       "      <td>Pakistan</td>\n",
       "    </tr>\n",
       "    <tr>\n",
       "      <th>6</th>\n",
       "      <td>Bangladesh</td>\n",
       "    </tr>\n",
       "    <tr>\n",
       "      <th>7</th>\n",
       "      <td>West Indies</td>\n",
       "    </tr>\n",
       "    <tr>\n",
       "      <th>8</th>\n",
       "      <td>Sri Lanka</td>\n",
       "    </tr>\n",
       "    <tr>\n",
       "      <th>9</th>\n",
       "      <td>Afghanistan</td>\n",
       "    </tr>\n",
       "    <tr>\n",
       "      <th>10</th>\n",
       "      <td>Netherlands</td>\n",
       "    </tr>\n",
       "    <tr>\n",
       "      <th>11</th>\n",
       "      <td>Ireland</td>\n",
       "    </tr>\n",
       "    <tr>\n",
       "      <th>12</th>\n",
       "      <td>Zimbabwe</td>\n",
       "    </tr>\n",
       "    <tr>\n",
       "      <th>13</th>\n",
       "      <td>Scotland</td>\n",
       "    </tr>\n",
       "    <tr>\n",
       "      <th>14</th>\n",
       "      <td>Oman</td>\n",
       "    </tr>\n",
       "    <tr>\n",
       "      <th>15</th>\n",
       "      <td>Nepal</td>\n",
       "    </tr>\n",
       "    <tr>\n",
       "      <th>16</th>\n",
       "      <td>UAE</td>\n",
       "    </tr>\n",
       "    <tr>\n",
       "      <th>17</th>\n",
       "      <td>Namibia</td>\n",
       "    </tr>\n",
       "    <tr>\n",
       "      <th>18</th>\n",
       "      <td>United States</td>\n",
       "    </tr>\n",
       "    <tr>\n",
       "      <th>19</th>\n",
       "      <td>Papua New Guinea</td>\n",
       "    </tr>\n",
       "  </tbody>\n",
       "</table>\n",
       "</div>"
      ],
      "text/plain": [
       "           Team_Name\n",
       "0        New Zealand\n",
       "1            England\n",
       "2          Australia\n",
       "3              India\n",
       "4       South Africa\n",
       "5           Pakistan\n",
       "6         Bangladesh\n",
       "7        West Indies\n",
       "8          Sri Lanka\n",
       "9        Afghanistan\n",
       "10       Netherlands\n",
       "11           Ireland\n",
       "12          Zimbabwe\n",
       "13          Scotland\n",
       "14              Oman\n",
       "15             Nepal\n",
       "16               UAE\n",
       "17           Namibia\n",
       "18     United States\n",
       "19  Papua New Guinea"
      ]
     },
     "execution_count": 43,
     "metadata": {},
     "output_type": "execute_result"
    }
   ],
   "source": [
    "Team_Name = []\n",
    "\n",
    "for i in team_name:\n",
    "     Team_Name.append(i.text.replace(\"\\n\",\"\"))\n",
    "    \n",
    "Team_Name = pd.DataFrame(Team_Name)\n",
    "Team_Name = Team_Name.drop([20,21,22,23,24])\n",
    "Team_Name.rename({0:'Team_Name'}, axis=1, inplace = True)\n",
    "Team_Name"
   ]
  },
  {
   "cell_type": "code",
   "execution_count": 44,
   "id": "6f8819f9",
   "metadata": {},
   "outputs": [
    {
     "data": {
      "text/html": [
       "<div>\n",
       "<style scoped>\n",
       "    .dataframe tbody tr th:only-of-type {\n",
       "        vertical-align: middle;\n",
       "    }\n",
       "\n",
       "    .dataframe tbody tr th {\n",
       "        vertical-align: top;\n",
       "    }\n",
       "\n",
       "    .dataframe thead th {\n",
       "        text-align: right;\n",
       "    }\n",
       "</style>\n",
       "<table border=\"1\" class=\"dataframe\">\n",
       "  <thead>\n",
       "    <tr style=\"text-align: right;\">\n",
       "      <th></th>\n",
       "      <th>Matches</th>\n",
       "    </tr>\n",
       "  </thead>\n",
       "  <tbody>\n",
       "    <tr>\n",
       "      <th>0</th>\n",
       "      <td>17</td>\n",
       "    </tr>\n",
       "    <tr>\n",
       "      <th>1</th>\n",
       "      <td>32</td>\n",
       "    </tr>\n",
       "    <tr>\n",
       "      <th>2</th>\n",
       "      <td>28</td>\n",
       "    </tr>\n",
       "    <tr>\n",
       "      <th>3</th>\n",
       "      <td>32</td>\n",
       "    </tr>\n",
       "    <tr>\n",
       "      <th>4</th>\n",
       "      <td>22</td>\n",
       "    </tr>\n",
       "    <tr>\n",
       "      <th>5</th>\n",
       "      <td>27</td>\n",
       "    </tr>\n",
       "    <tr>\n",
       "      <th>6</th>\n",
       "      <td>29</td>\n",
       "    </tr>\n",
       "    <tr>\n",
       "      <th>7</th>\n",
       "      <td>30</td>\n",
       "    </tr>\n",
       "    <tr>\n",
       "      <th>8</th>\n",
       "      <td>29</td>\n",
       "    </tr>\n",
       "    <tr>\n",
       "      <th>9</th>\n",
       "      <td>17</td>\n",
       "    </tr>\n",
       "    <tr>\n",
       "      <th>10</th>\n",
       "      <td>7</td>\n",
       "    </tr>\n",
       "    <tr>\n",
       "      <th>11</th>\n",
       "      <td>23</td>\n",
       "    </tr>\n",
       "    <tr>\n",
       "      <th>12</th>\n",
       "      <td>17</td>\n",
       "    </tr>\n",
       "    <tr>\n",
       "      <th>13</th>\n",
       "      <td>7</td>\n",
       "    </tr>\n",
       "    <tr>\n",
       "      <th>14</th>\n",
       "      <td>7</td>\n",
       "    </tr>\n",
       "    <tr>\n",
       "      <th>15</th>\n",
       "      <td>5</td>\n",
       "    </tr>\n",
       "    <tr>\n",
       "      <th>16</th>\n",
       "      <td>9</td>\n",
       "    </tr>\n",
       "    <tr>\n",
       "      <th>17</th>\n",
       "      <td>6</td>\n",
       "    </tr>\n",
       "    <tr>\n",
       "      <th>18</th>\n",
       "      <td>8</td>\n",
       "    </tr>\n",
       "    <tr>\n",
       "      <th>19</th>\n",
       "      <td>5</td>\n",
       "    </tr>\n",
       "  </tbody>\n",
       "</table>\n",
       "</div>"
      ],
      "text/plain": [
       "   Matches\n",
       "0       17\n",
       "1       32\n",
       "2       28\n",
       "3       32\n",
       "4       22\n",
       "5       27\n",
       "6       29\n",
       "7       30\n",
       "8       29\n",
       "9       17\n",
       "10       7\n",
       "11      23\n",
       "12      17\n",
       "13       7\n",
       "14       7\n",
       "15       5\n",
       "16       9\n",
       "17       6\n",
       "18       8\n",
       "19       5"
      ]
     },
     "execution_count": 44,
     "metadata": {},
     "output_type": "execute_result"
    }
   ],
   "source": [
    "Match3 = []\n",
    "\n",
    "for i in match:\n",
    "     Match3.append(i.text.replace(\"\\n\",\"\"))\n",
    "    \n",
    "Match = Match3[0::2]\n",
    "Match = pd.DataFrame(Match)\n",
    "Match.rename({0:'Matches'}, axis=1, inplace = True)\n",
    "Match\n"
   ]
  },
  {
   "cell_type": "code",
   "execution_count": 45,
   "id": "e6e08c81",
   "metadata": {},
   "outputs": [
    {
     "data": {
      "text/html": [
       "<div>\n",
       "<style scoped>\n",
       "    .dataframe tbody tr th:only-of-type {\n",
       "        vertical-align: middle;\n",
       "    }\n",
       "\n",
       "    .dataframe tbody tr th {\n",
       "        vertical-align: top;\n",
       "    }\n",
       "\n",
       "    .dataframe thead th {\n",
       "        text-align: right;\n",
       "    }\n",
       "</style>\n",
       "<table border=\"1\" class=\"dataframe\">\n",
       "  <thead>\n",
       "    <tr style=\"text-align: right;\">\n",
       "      <th></th>\n",
       "      <th>Points</th>\n",
       "    </tr>\n",
       "  </thead>\n",
       "  <tbody>\n",
       "    <tr>\n",
       "      <th>0</th>\n",
       "      <td>2,054</td>\n",
       "    </tr>\n",
       "    <tr>\n",
       "      <th>1</th>\n",
       "      <td>3,793</td>\n",
       "    </tr>\n",
       "    <tr>\n",
       "      <th>2</th>\n",
       "      <td>3,244</td>\n",
       "    </tr>\n",
       "    <tr>\n",
       "      <th>3</th>\n",
       "      <td>3,624</td>\n",
       "    </tr>\n",
       "    <tr>\n",
       "      <th>4</th>\n",
       "      <td>2,267</td>\n",
       "    </tr>\n",
       "    <tr>\n",
       "      <th>5</th>\n",
       "      <td>2,524</td>\n",
       "    </tr>\n",
       "    <tr>\n",
       "      <th>6</th>\n",
       "      <td>2,639</td>\n",
       "    </tr>\n",
       "    <tr>\n",
       "      <th>7</th>\n",
       "      <td>2,523</td>\n",
       "    </tr>\n",
       "    <tr>\n",
       "      <th>8</th>\n",
       "      <td>2,303</td>\n",
       "    </tr>\n",
       "    <tr>\n",
       "      <th>9</th>\n",
       "      <td>1,054</td>\n",
       "    </tr>\n",
       "    <tr>\n",
       "      <th>10</th>\n",
       "      <td>336</td>\n",
       "    </tr>\n",
       "    <tr>\n",
       "      <th>11</th>\n",
       "      <td>1,067</td>\n",
       "    </tr>\n",
       "    <tr>\n",
       "      <th>12</th>\n",
       "      <td>646</td>\n",
       "    </tr>\n",
       "    <tr>\n",
       "      <th>13</th>\n",
       "      <td>258</td>\n",
       "    </tr>\n",
       "    <tr>\n",
       "      <th>14</th>\n",
       "      <td>240</td>\n",
       "    </tr>\n",
       "    <tr>\n",
       "      <th>15</th>\n",
       "      <td>119</td>\n",
       "    </tr>\n",
       "    <tr>\n",
       "      <th>16</th>\n",
       "      <td>190</td>\n",
       "    </tr>\n",
       "    <tr>\n",
       "      <th>17</th>\n",
       "      <td>97</td>\n",
       "    </tr>\n",
       "    <tr>\n",
       "      <th>18</th>\n",
       "      <td>93</td>\n",
       "    </tr>\n",
       "    <tr>\n",
       "      <th>19</th>\n",
       "      <td>0</td>\n",
       "    </tr>\n",
       "  </tbody>\n",
       "</table>\n",
       "</div>"
      ],
      "text/plain": [
       "   Points\n",
       "0   2,054\n",
       "1   3,793\n",
       "2   3,244\n",
       "3   3,624\n",
       "4   2,267\n",
       "5   2,524\n",
       "6   2,639\n",
       "7   2,523\n",
       "8   2,303\n",
       "9   1,054\n",
       "10    336\n",
       "11  1,067\n",
       "12    646\n",
       "13    258\n",
       "14    240\n",
       "15    119\n",
       "16    190\n",
       "17     97\n",
       "18     93\n",
       "19      0"
      ]
     },
     "execution_count": 45,
     "metadata": {},
     "output_type": "execute_result"
    }
   ],
   "source": [
    "Point = Match3\n",
    "Point = Point[1::2]\n",
    "Point = pd.DataFrame(Point)\n",
    "Point.rename({0:'Points'}, axis=1, inplace = True)\n",
    "Point"
   ]
  },
  {
   "cell_type": "code",
   "execution_count": 46,
   "id": "860bee40",
   "metadata": {},
   "outputs": [
    {
     "data": {
      "text/html": [
       "<div>\n",
       "<style scoped>\n",
       "    .dataframe tbody tr th:only-of-type {\n",
       "        vertical-align: middle;\n",
       "    }\n",
       "\n",
       "    .dataframe tbody tr th {\n",
       "        vertical-align: top;\n",
       "    }\n",
       "\n",
       "    .dataframe thead th {\n",
       "        text-align: right;\n",
       "    }\n",
       "</style>\n",
       "<table border=\"1\" class=\"dataframe\">\n",
       "  <thead>\n",
       "    <tr style=\"text-align: right;\">\n",
       "      <th></th>\n",
       "      <th>Rating</th>\n",
       "    </tr>\n",
       "  </thead>\n",
       "  <tbody>\n",
       "    <tr>\n",
       "      <th>0</th>\n",
       "      <td>121</td>\n",
       "    </tr>\n",
       "    <tr>\n",
       "      <th>1</th>\n",
       "      <td>119</td>\n",
       "    </tr>\n",
       "    <tr>\n",
       "      <th>2</th>\n",
       "      <td>116</td>\n",
       "    </tr>\n",
       "    <tr>\n",
       "      <th>3</th>\n",
       "      <td>113</td>\n",
       "    </tr>\n",
       "    <tr>\n",
       "      <th>4</th>\n",
       "      <td>103</td>\n",
       "    </tr>\n",
       "    <tr>\n",
       "      <th>5</th>\n",
       "      <td>93</td>\n",
       "    </tr>\n",
       "    <tr>\n",
       "      <th>6</th>\n",
       "      <td>91</td>\n",
       "    </tr>\n",
       "    <tr>\n",
       "      <th>7</th>\n",
       "      <td>84</td>\n",
       "    </tr>\n",
       "    <tr>\n",
       "      <th>8</th>\n",
       "      <td>79</td>\n",
       "    </tr>\n",
       "    <tr>\n",
       "      <th>9</th>\n",
       "      <td>62</td>\n",
       "    </tr>\n",
       "    <tr>\n",
       "      <th>10</th>\n",
       "      <td>48</td>\n",
       "    </tr>\n",
       "    <tr>\n",
       "      <th>11</th>\n",
       "      <td>46</td>\n",
       "    </tr>\n",
       "    <tr>\n",
       "      <th>12</th>\n",
       "      <td>38</td>\n",
       "    </tr>\n",
       "    <tr>\n",
       "      <th>13</th>\n",
       "      <td>37</td>\n",
       "    </tr>\n",
       "    <tr>\n",
       "      <th>14</th>\n",
       "      <td>34</td>\n",
       "    </tr>\n",
       "    <tr>\n",
       "      <th>15</th>\n",
       "      <td>24</td>\n",
       "    </tr>\n",
       "    <tr>\n",
       "      <th>16</th>\n",
       "      <td>21</td>\n",
       "    </tr>\n",
       "    <tr>\n",
       "      <th>17</th>\n",
       "      <td>16</td>\n",
       "    </tr>\n",
       "    <tr>\n",
       "      <th>18</th>\n",
       "      <td>12</td>\n",
       "    </tr>\n",
       "    <tr>\n",
       "      <th>19</th>\n",
       "      <td>0</td>\n",
       "    </tr>\n",
       "  </tbody>\n",
       "</table>\n",
       "</div>"
      ],
      "text/plain": [
       "   Rating\n",
       "0     121\n",
       "1     119\n",
       "2     116\n",
       "3     113\n",
       "4     103\n",
       "5      93\n",
       "6      91\n",
       "7      84\n",
       "8      79\n",
       "9      62\n",
       "10     48\n",
       "11     46\n",
       "12     38\n",
       "13     37\n",
       "14     34\n",
       "15     24\n",
       "16     21\n",
       "17     16\n",
       "18     12\n",
       "19      0"
      ]
     },
     "execution_count": 46,
     "metadata": {},
     "output_type": "execute_result"
    }
   ],
   "source": [
    "Rating = []\n",
    "\n",
    "for i in rating:\n",
    "    Rating.append(i.text.replace(\"\\n\",\" \").strip())\n",
    "\n",
    "Rating = pd.DataFrame(Rating)\n",
    "Rating.rename({0:'Rating'}, axis=1, inplace = True)\n",
    "Rating"
   ]
  },
  {
   "cell_type": "code",
   "execution_count": 47,
   "id": "8b773d07",
   "metadata": {},
   "outputs": [
    {
     "name": "stdout",
     "output_type": "stream",
     "text": [
      "20\n",
      "20\n",
      "20\n",
      "20\n"
     ]
    }
   ],
   "source": [
    "print(len(Team_Name))\n",
    "print(len(Match))\n",
    "print(len(Point))\n",
    "print(len(Rating))"
   ]
  },
  {
   "cell_type": "code",
   "execution_count": 48,
   "id": "36ec62eb",
   "metadata": {},
   "outputs": [
    {
     "data": {
      "text/html": [
       "<div>\n",
       "<style scoped>\n",
       "    .dataframe tbody tr th:only-of-type {\n",
       "        vertical-align: middle;\n",
       "    }\n",
       "\n",
       "    .dataframe tbody tr th {\n",
       "        vertical-align: top;\n",
       "    }\n",
       "\n",
       "    .dataframe thead th {\n",
       "        text-align: right;\n",
       "    }\n",
       "</style>\n",
       "<table border=\"1\" class=\"dataframe\">\n",
       "  <thead>\n",
       "    <tr style=\"text-align: right;\">\n",
       "      <th></th>\n",
       "      <th>Team_Name</th>\n",
       "      <th>Matches</th>\n",
       "      <th>Points</th>\n",
       "      <th>Rating</th>\n",
       "    </tr>\n",
       "  </thead>\n",
       "  <tbody>\n",
       "    <tr>\n",
       "      <th>0</th>\n",
       "      <td>New Zealand</td>\n",
       "      <td>17</td>\n",
       "      <td>2,054</td>\n",
       "      <td>121</td>\n",
       "    </tr>\n",
       "    <tr>\n",
       "      <th>1</th>\n",
       "      <td>England</td>\n",
       "      <td>32</td>\n",
       "      <td>3,793</td>\n",
       "      <td>119</td>\n",
       "    </tr>\n",
       "    <tr>\n",
       "      <th>2</th>\n",
       "      <td>Australia</td>\n",
       "      <td>28</td>\n",
       "      <td>3,244</td>\n",
       "      <td>116</td>\n",
       "    </tr>\n",
       "    <tr>\n",
       "      <th>3</th>\n",
       "      <td>India</td>\n",
       "      <td>32</td>\n",
       "      <td>3,624</td>\n",
       "      <td>113</td>\n",
       "    </tr>\n",
       "    <tr>\n",
       "      <th>4</th>\n",
       "      <td>South Africa</td>\n",
       "      <td>22</td>\n",
       "      <td>2,267</td>\n",
       "      <td>103</td>\n",
       "    </tr>\n",
       "    <tr>\n",
       "      <th>5</th>\n",
       "      <td>Pakistan</td>\n",
       "      <td>27</td>\n",
       "      <td>2,524</td>\n",
       "      <td>93</td>\n",
       "    </tr>\n",
       "    <tr>\n",
       "      <th>6</th>\n",
       "      <td>Bangladesh</td>\n",
       "      <td>29</td>\n",
       "      <td>2,639</td>\n",
       "      <td>91</td>\n",
       "    </tr>\n",
       "    <tr>\n",
       "      <th>7</th>\n",
       "      <td>West Indies</td>\n",
       "      <td>30</td>\n",
       "      <td>2,523</td>\n",
       "      <td>84</td>\n",
       "    </tr>\n",
       "    <tr>\n",
       "      <th>8</th>\n",
       "      <td>Sri Lanka</td>\n",
       "      <td>29</td>\n",
       "      <td>2,303</td>\n",
       "      <td>79</td>\n",
       "    </tr>\n",
       "    <tr>\n",
       "      <th>9</th>\n",
       "      <td>Afghanistan</td>\n",
       "      <td>17</td>\n",
       "      <td>1,054</td>\n",
       "      <td>62</td>\n",
       "    </tr>\n",
       "    <tr>\n",
       "      <th>10</th>\n",
       "      <td>Netherlands</td>\n",
       "      <td>7</td>\n",
       "      <td>336</td>\n",
       "      <td>48</td>\n",
       "    </tr>\n",
       "    <tr>\n",
       "      <th>11</th>\n",
       "      <td>Ireland</td>\n",
       "      <td>23</td>\n",
       "      <td>1,067</td>\n",
       "      <td>46</td>\n",
       "    </tr>\n",
       "    <tr>\n",
       "      <th>12</th>\n",
       "      <td>Zimbabwe</td>\n",
       "      <td>17</td>\n",
       "      <td>646</td>\n",
       "      <td>38</td>\n",
       "    </tr>\n",
       "    <tr>\n",
       "      <th>13</th>\n",
       "      <td>Scotland</td>\n",
       "      <td>7</td>\n",
       "      <td>258</td>\n",
       "      <td>37</td>\n",
       "    </tr>\n",
       "    <tr>\n",
       "      <th>14</th>\n",
       "      <td>Oman</td>\n",
       "      <td>7</td>\n",
       "      <td>240</td>\n",
       "      <td>34</td>\n",
       "    </tr>\n",
       "    <tr>\n",
       "      <th>15</th>\n",
       "      <td>Nepal</td>\n",
       "      <td>5</td>\n",
       "      <td>119</td>\n",
       "      <td>24</td>\n",
       "    </tr>\n",
       "    <tr>\n",
       "      <th>16</th>\n",
       "      <td>UAE</td>\n",
       "      <td>9</td>\n",
       "      <td>190</td>\n",
       "      <td>21</td>\n",
       "    </tr>\n",
       "    <tr>\n",
       "      <th>17</th>\n",
       "      <td>Namibia</td>\n",
       "      <td>6</td>\n",
       "      <td>97</td>\n",
       "      <td>16</td>\n",
       "    </tr>\n",
       "    <tr>\n",
       "      <th>18</th>\n",
       "      <td>United States</td>\n",
       "      <td>8</td>\n",
       "      <td>93</td>\n",
       "      <td>12</td>\n",
       "    </tr>\n",
       "    <tr>\n",
       "      <th>19</th>\n",
       "      <td>Papua New Guinea</td>\n",
       "      <td>5</td>\n",
       "      <td>0</td>\n",
       "      <td>0</td>\n",
       "    </tr>\n",
       "  </tbody>\n",
       "</table>\n",
       "</div>"
      ],
      "text/plain": [
       "           Team_Name Matches Points Rating\n",
       "0        New Zealand      17  2,054    121\n",
       "1            England      32  3,793    119\n",
       "2          Australia      28  3,244    116\n",
       "3              India      32  3,624    113\n",
       "4       South Africa      22  2,267    103\n",
       "5           Pakistan      27  2,524     93\n",
       "6         Bangladesh      29  2,639     91\n",
       "7        West Indies      30  2,523     84\n",
       "8          Sri Lanka      29  2,303     79\n",
       "9        Afghanistan      17  1,054     62\n",
       "10       Netherlands       7    336     48\n",
       "11           Ireland      23  1,067     46\n",
       "12          Zimbabwe      17    646     38\n",
       "13          Scotland       7    258     37\n",
       "14              Oman       7    240     34\n",
       "15             Nepal       5    119     24\n",
       "16               UAE       9    190     21\n",
       "17           Namibia       6     97     16\n",
       "18     United States       8     93     12\n",
       "19  Papua New Guinea       5      0      0"
      ]
     },
     "execution_count": 48,
     "metadata": {},
     "output_type": "execute_result"
    }
   ],
   "source": [
    "Top10_ICC_ODI_Team = pd.concat([Team_Name, Match, Point, Rating], axis = 1, sort= False)\n",
    "Top10_ICC_ODI_Team"
   ]
  },
  {
   "cell_type": "markdown",
   "id": "c502ef99",
   "metadata": {},
   "source": [
    "ii) Top 10 ODI Batsmen in men along with the records of their team and rating"
   ]
  },
  {
   "cell_type": "code",
   "execution_count": 49,
   "id": "d5b6e158",
   "metadata": {},
   "outputs": [],
   "source": [
    "url = \"https://www.icc-cricket.com/rankings/mens/player-rankings/odi/batting\""
   ]
  },
  {
   "cell_type": "code",
   "execution_count": 50,
   "id": "9d699923",
   "metadata": {},
   "outputs": [
    {
     "name": "stdout",
     "output_type": "stream",
     "text": [
      "<Response [200]>\n"
     ]
    }
   ],
   "source": [
    "soup = verify_url(url)"
   ]
  },
  {
   "cell_type": "code",
   "execution_count": 51,
   "id": "271a4530",
   "metadata": {},
   "outputs": [],
   "source": [
    "batsman_player1 = soup.find_all(\"div\", class_=\"rankings-block__banner--name-large\")\n",
    "team1 = soup.find_all(\"div\", class_=\"rankings-block__banner--nationality\")\n",
    "rating1 = soup.find_all(\"div\", class_=\"rankings-block__banner--rating\")"
   ]
  },
  {
   "cell_type": "code",
   "execution_count": 52,
   "id": "b6a61611",
   "metadata": {},
   "outputs": [],
   "source": [
    "batsman_player2 = soup.find_all(\"td\", class_=\"table-body__cell rankings-table__name name\")\n",
    "team2 = soup.find_all(\"span\", class_=\"table-body__logo-text\")\n",
    "rating2 = soup.find_all(\"td\", class_=\"table-body__cell rating\")\n",
    "\n",
    "batsman_player = batsman_player1 + batsman_player2\n",
    "team = team1 + team2\n",
    "rating = rating1+rating2"
   ]
  },
  {
   "cell_type": "code",
   "execution_count": 104,
   "id": "1a50311c",
   "metadata": {},
   "outputs": [],
   "source": [
    "Batsman_Player = []\n",
    "\n",
    "for i in batsman_player:\n",
    "    Batsman_Player.append(i.text.replace(\"\\n\",\" \").strip())"
   ]
  },
  {
   "cell_type": "code",
   "execution_count": 105,
   "id": "c8a1fd8b",
   "metadata": {},
   "outputs": [],
   "source": [
    "Team = []\n",
    "\n",
    "for i in team:\n",
    "    Team.append(i.text.replace(\"\\n\",\" \").strip())"
   ]
  },
  {
   "cell_type": "code",
   "execution_count": 106,
   "id": "8e10b8f5",
   "metadata": {},
   "outputs": [],
   "source": [
    "Rating = []\n",
    "\n",
    "for i in rating:\n",
    "    Rating.append(i.text.replace(\"\\n\",\" \").strip())"
   ]
  },
  {
   "cell_type": "code",
   "execution_count": 56,
   "id": "2c39c843",
   "metadata": {},
   "outputs": [
    {
     "data": {
      "text/html": [
       "<div>\n",
       "<style scoped>\n",
       "    .dataframe tbody tr th:only-of-type {\n",
       "        vertical-align: middle;\n",
       "    }\n",
       "\n",
       "    .dataframe tbody tr th {\n",
       "        vertical-align: top;\n",
       "    }\n",
       "\n",
       "    .dataframe thead th {\n",
       "        text-align: right;\n",
       "    }\n",
       "</style>\n",
       "<table border=\"1\" class=\"dataframe\">\n",
       "  <thead>\n",
       "    <tr style=\"text-align: right;\">\n",
       "      <th></th>\n",
       "      <th>ODI Batsman Name</th>\n",
       "      <th>Team</th>\n",
       "      <th>Rating</th>\n",
       "    </tr>\n",
       "  </thead>\n",
       "  <tbody>\n",
       "    <tr>\n",
       "      <th>0</th>\n",
       "      <td>Babar Azam</td>\n",
       "      <td>PAK</td>\n",
       "      <td>873</td>\n",
       "    </tr>\n",
       "    <tr>\n",
       "      <th>1</th>\n",
       "      <td>Virat Kohli</td>\n",
       "      <td>IND</td>\n",
       "      <td>844</td>\n",
       "    </tr>\n",
       "    <tr>\n",
       "      <th>2</th>\n",
       "      <td>Rohit Sharma</td>\n",
       "      <td>IND</td>\n",
       "      <td>813</td>\n",
       "    </tr>\n",
       "    <tr>\n",
       "      <th>3</th>\n",
       "      <td>Ross Taylor</td>\n",
       "      <td>NZ</td>\n",
       "      <td>801</td>\n",
       "    </tr>\n",
       "    <tr>\n",
       "      <th>4</th>\n",
       "      <td>Aaron Finch</td>\n",
       "      <td>AUS</td>\n",
       "      <td>779</td>\n",
       "    </tr>\n",
       "    <tr>\n",
       "      <th>5</th>\n",
       "      <td>Jonny Bairstow</td>\n",
       "      <td>ENG</td>\n",
       "      <td>775</td>\n",
       "    </tr>\n",
       "    <tr>\n",
       "      <th>6</th>\n",
       "      <td>David Warner</td>\n",
       "      <td>AUS</td>\n",
       "      <td>762</td>\n",
       "    </tr>\n",
       "    <tr>\n",
       "      <th>7</th>\n",
       "      <td>Quinton de Kock</td>\n",
       "      <td>SA</td>\n",
       "      <td>758</td>\n",
       "    </tr>\n",
       "    <tr>\n",
       "      <th>8</th>\n",
       "      <td>Shai Hope</td>\n",
       "      <td>WI</td>\n",
       "      <td>758</td>\n",
       "    </tr>\n",
       "    <tr>\n",
       "      <th>9</th>\n",
       "      <td>Kane Williamson</td>\n",
       "      <td>NZ</td>\n",
       "      <td>754</td>\n",
       "    </tr>\n",
       "  </tbody>\n",
       "</table>\n",
       "</div>"
      ],
      "text/plain": [
       "  ODI Batsman Name Team Rating\n",
       "0       Babar Azam  PAK    873\n",
       "1      Virat Kohli  IND    844\n",
       "2     Rohit Sharma  IND    813\n",
       "3      Ross Taylor   NZ    801\n",
       "4      Aaron Finch  AUS    779\n",
       "5   Jonny Bairstow  ENG    775\n",
       "6     David Warner  AUS    762\n",
       "7  Quinton de Kock   SA    758\n",
       "8        Shai Hope   WI    758\n",
       "9  Kane Williamson   NZ    754"
      ]
     },
     "execution_count": 56,
     "metadata": {},
     "output_type": "execute_result"
    }
   ],
   "source": [
    "Top10_ICC_ODI_Batsmen=pd.DataFrame({})\n",
    "Top10_ICC_ODI_Batsmen['ODI Batsman Name']=Batsman_Player [:10]\n",
    "Top10_ICC_ODI_Batsmen['Team']=Team [:10]\n",
    "Top10_ICC_ODI_Batsmen['Rating']=Rating [:10]\n",
    "\n",
    "Top10_ICC_ODI_Batsmen"
   ]
  },
  {
   "cell_type": "markdown",
   "id": "98c2ae50",
   "metadata": {},
   "source": [
    "iii) Top 10 ODI bowlers along with the records of their team andrating."
   ]
  },
  {
   "cell_type": "code",
   "execution_count": 57,
   "id": "a3e88fd5",
   "metadata": {},
   "outputs": [],
   "source": [
    "url = \"https://www.icc-cricket.com/rankings/mens/player-rankings/odi/bowling\""
   ]
  },
  {
   "cell_type": "code",
   "execution_count": 58,
   "id": "491ff111",
   "metadata": {},
   "outputs": [
    {
     "name": "stdout",
     "output_type": "stream",
     "text": [
      "<Response [200]>\n"
     ]
    }
   ],
   "source": [
    "soup = verify_url(url)"
   ]
  },
  {
   "cell_type": "code",
   "execution_count": 59,
   "id": "79640559",
   "metadata": {},
   "outputs": [],
   "source": [
    "bowler1 = soup.find_all(\"div\", class_=\"rankings-block__banner--name-large\")\n",
    "team1 = soup.find_all(\"div\", class_=\"rankings-block__banner--nationality\")\n",
    "rating1 = soup.find_all(\"div\", class_=\"rankings-block__banner--rating\")"
   ]
  },
  {
   "cell_type": "code",
   "execution_count": 60,
   "id": "9fcc8fa8",
   "metadata": {},
   "outputs": [],
   "source": [
    "bowler2 = soup.find_all(\"td\", class_=\"table-body__cell rankings-table__name name\")\n",
    "team2 = soup.find_all(\"span\", class_=\"table-body__logo-text\")\n",
    "rating2 = soup.find_all(\"td\", class_=\"table-body__cell rating\")\n",
    "\n",
    "bowler = bowler1 + bowler2\n",
    "team = team1 + team2\n",
    "rating = rating1+rating2"
   ]
  },
  {
   "cell_type": "code",
   "execution_count": 107,
   "id": "9fd62dac",
   "metadata": {},
   "outputs": [],
   "source": [
    "Bowler = []\n",
    "\n",
    "for i in bowler:\n",
    "    Bowler.append(i.text.replace(\"\\n\",\" \").strip())"
   ]
  },
  {
   "cell_type": "code",
   "execution_count": 108,
   "id": "25befe4f",
   "metadata": {},
   "outputs": [],
   "source": [
    "Team = []\n",
    "\n",
    "for i in team:\n",
    "    Team.append(i.text.replace(\"\\n\",\" \").strip())"
   ]
  },
  {
   "cell_type": "code",
   "execution_count": 109,
   "id": "5da0be1d",
   "metadata": {},
   "outputs": [],
   "source": [
    "Rating = []\n",
    "\n",
    "for i in rating:\n",
    "    Rating.append(i.text.replace(\"\\n\",\" \").strip())"
   ]
  },
  {
   "cell_type": "code",
   "execution_count": 64,
   "id": "35d3085f",
   "metadata": {},
   "outputs": [
    {
     "data": {
      "text/html": [
       "<div>\n",
       "<style scoped>\n",
       "    .dataframe tbody tr th:only-of-type {\n",
       "        vertical-align: middle;\n",
       "    }\n",
       "\n",
       "    .dataframe tbody tr th {\n",
       "        vertical-align: top;\n",
       "    }\n",
       "\n",
       "    .dataframe thead th {\n",
       "        text-align: right;\n",
       "    }\n",
       "</style>\n",
       "<table border=\"1\" class=\"dataframe\">\n",
       "  <thead>\n",
       "    <tr style=\"text-align: right;\">\n",
       "      <th></th>\n",
       "      <th>ODI Bowler Name</th>\n",
       "      <th>Team</th>\n",
       "      <th>Rating</th>\n",
       "    </tr>\n",
       "  </thead>\n",
       "  <tbody>\n",
       "    <tr>\n",
       "      <th>0</th>\n",
       "      <td>Trent Boult</td>\n",
       "      <td>NZ</td>\n",
       "      <td>737</td>\n",
       "    </tr>\n",
       "    <tr>\n",
       "      <th>1</th>\n",
       "      <td>Josh Hazlewood</td>\n",
       "      <td>AUS</td>\n",
       "      <td>709</td>\n",
       "    </tr>\n",
       "    <tr>\n",
       "      <th>2</th>\n",
       "      <td>Mujeeb Ur Rahman</td>\n",
       "      <td>AFG</td>\n",
       "      <td>708</td>\n",
       "    </tr>\n",
       "    <tr>\n",
       "      <th>3</th>\n",
       "      <td>Chris Woakes</td>\n",
       "      <td>ENG</td>\n",
       "      <td>700</td>\n",
       "    </tr>\n",
       "    <tr>\n",
       "      <th>4</th>\n",
       "      <td>Mehedi Hasan</td>\n",
       "      <td>BAN</td>\n",
       "      <td>692</td>\n",
       "    </tr>\n",
       "    <tr>\n",
       "      <th>5</th>\n",
       "      <td>Matt Henry</td>\n",
       "      <td>NZ</td>\n",
       "      <td>691</td>\n",
       "    </tr>\n",
       "    <tr>\n",
       "      <th>6</th>\n",
       "      <td>Jasprit Bumrah</td>\n",
       "      <td>IND</td>\n",
       "      <td>679</td>\n",
       "    </tr>\n",
       "    <tr>\n",
       "      <th>7</th>\n",
       "      <td>Mitchell Starc</td>\n",
       "      <td>AUS</td>\n",
       "      <td>652</td>\n",
       "    </tr>\n",
       "    <tr>\n",
       "      <th>8</th>\n",
       "      <td>Shakib Al Hasan</td>\n",
       "      <td>BAN</td>\n",
       "      <td>650</td>\n",
       "    </tr>\n",
       "    <tr>\n",
       "      <th>9</th>\n",
       "      <td>Kagiso Rabada</td>\n",
       "      <td>SA</td>\n",
       "      <td>648</td>\n",
       "    </tr>\n",
       "  </tbody>\n",
       "</table>\n",
       "</div>"
      ],
      "text/plain": [
       "    ODI Bowler Name Team Rating\n",
       "0       Trent Boult   NZ    737\n",
       "1    Josh Hazlewood  AUS    709\n",
       "2  Mujeeb Ur Rahman  AFG    708\n",
       "3      Chris Woakes  ENG    700\n",
       "4      Mehedi Hasan  BAN    692\n",
       "5        Matt Henry   NZ    691\n",
       "6    Jasprit Bumrah  IND    679\n",
       "7    Mitchell Starc  AUS    652\n",
       "8   Shakib Al Hasan  BAN    650\n",
       "9     Kagiso Rabada   SA    648"
      ]
     },
     "execution_count": 64,
     "metadata": {},
     "output_type": "execute_result"
    }
   ],
   "source": [
    "Top10_ICC_ODI_Bowler=pd.DataFrame({})\n",
    "Top10_ICC_ODI_Bowler['ODI Bowler Name']=Bowler [:10]\n",
    "Top10_ICC_ODI_Bowler['Team']=Team [:10]\n",
    "Top10_ICC_ODI_Bowler['Rating']=Rating [:10]\n",
    "\n",
    "Top10_ICC_ODI_Bowler"
   ]
  },
  {
   "cell_type": "markdown",
   "id": "856390fc",
   "metadata": {},
   "source": [
    "# 6. Write a python program to scrape cricket rankings from ‘www.icc-cricket.com’. You have to scrape:"
   ]
  },
  {
   "cell_type": "markdown",
   "id": "b99a799f",
   "metadata": {},
   "source": [
    "i) Top 10 ODI teams in women’s cricket along with the records for matches, points and rating."
   ]
  },
  {
   "cell_type": "code",
   "execution_count": 65,
   "id": "2c502ec4",
   "metadata": {},
   "outputs": [],
   "source": [
    "url=\"https://www.icc-cricket.com/rankings/womens/team-rankings/odi\""
   ]
  },
  {
   "cell_type": "code",
   "execution_count": 66,
   "id": "db151bb5",
   "metadata": {},
   "outputs": [
    {
     "name": "stdout",
     "output_type": "stream",
     "text": [
      "<Response [200]>\n"
     ]
    }
   ],
   "source": [
    "soup = verify_url(url)"
   ]
  },
  {
   "cell_type": "code",
   "execution_count": 67,
   "id": "eac9ff7b",
   "metadata": {},
   "outputs": [],
   "source": [
    "woman_team = soup.find_all(\"span\", class_=\"u-hide-phablet\")\n",
    "match1 = soup.find_all(\"td\", class_=\"rankings-block__banner--matches\")\n",
    "point1 = soup.find_all(\"td\", class_=\"rankings-block__banner--points\")\n",
    "match2 = soup.find_all(\"td\", class_=\"table-body__cell u-center-text\")\n",
    "rating1 = soup.find_all(\"td\", class_=\"rankings-block__banner--rating u-text-right\")\n",
    "rating2 = soup.find_all(\"td\", class_=\"table-body__cell u-text-right rating\")\n",
    "rating = rating1+rating2\n",
    "match = match1 + point1 + match2"
   ]
  },
  {
   "cell_type": "code",
   "execution_count": 110,
   "id": "8efe509e",
   "metadata": {},
   "outputs": [],
   "source": [
    "Woman_Team = []\n",
    "\n",
    "for i in woman_team:\n",
    "     Woman_Team.append(i.text.replace(\"\\n\",\"\"))\n",
    "    \n",
    "Woman_Team = pd.DataFrame(Woman_Team)\n",
    "Woman_Team = Woman_Team.drop([10,11,12,13,14])\n",
    "Woman_Team.rename({0:'Woman_Team'}, axis=1, inplace = True)"
   ]
  },
  {
   "cell_type": "code",
   "execution_count": 111,
   "id": "955fe8bb",
   "metadata": {},
   "outputs": [],
   "source": [
    "Match3 = []\n",
    "\n",
    "for i in match:\n",
    "     Match3.append(i.text.replace(\"\\n\",\"\"))\n",
    "    \n",
    "Match = Match3[0::2]\n",
    "Match = pd.DataFrame(Match)\n",
    "Match.rename({0:'Matches'}, axis=1, inplace = True)"
   ]
  },
  {
   "cell_type": "code",
   "execution_count": 112,
   "id": "4ef8088e",
   "metadata": {},
   "outputs": [],
   "source": [
    "Point = Match3\n",
    "Point = Point[1::2]\n",
    "Point = pd.DataFrame(Point)\n",
    "Point.rename({0:'Points'}, axis=1, inplace = True)"
   ]
  },
  {
   "cell_type": "code",
   "execution_count": 113,
   "id": "18758075",
   "metadata": {},
   "outputs": [],
   "source": [
    "Rating = []\n",
    "\n",
    "for i in rating:\n",
    "    Rating.append(i.text.replace(\"\\n\",\" \").strip())\n",
    "\n",
    "Rating = pd.DataFrame(Rating)\n",
    "Rating.rename({0:'Rating'}, axis=1, inplace = True)"
   ]
  },
  {
   "cell_type": "code",
   "execution_count": 72,
   "id": "a8fd98f4",
   "metadata": {},
   "outputs": [
    {
     "name": "stdout",
     "output_type": "stream",
     "text": [
      "10\n",
      "10\n",
      "10\n",
      "10\n"
     ]
    }
   ],
   "source": [
    "print(len(Woman_Team))\n",
    "print(len(Match))\n",
    "print(len(Point))\n",
    "print(len(Rating))"
   ]
  },
  {
   "cell_type": "code",
   "execution_count": 114,
   "id": "7f23ee0a",
   "metadata": {},
   "outputs": [
    {
     "data": {
      "text/html": [
       "<div>\n",
       "<style scoped>\n",
       "    .dataframe tbody tr th:only-of-type {\n",
       "        vertical-align: middle;\n",
       "    }\n",
       "\n",
       "    .dataframe tbody tr th {\n",
       "        vertical-align: top;\n",
       "    }\n",
       "\n",
       "    .dataframe thead th {\n",
       "        text-align: right;\n",
       "    }\n",
       "</style>\n",
       "<table border=\"1\" class=\"dataframe\">\n",
       "  <thead>\n",
       "    <tr style=\"text-align: right;\">\n",
       "      <th></th>\n",
       "      <th>Woman_Team</th>\n",
       "      <th>Matches</th>\n",
       "      <th>Points</th>\n",
       "      <th>Rating</th>\n",
       "    </tr>\n",
       "  </thead>\n",
       "  <tbody>\n",
       "    <tr>\n",
       "      <th>0</th>\n",
       "      <td>Australia</td>\n",
       "      <td>18</td>\n",
       "      <td>2,955</td>\n",
       "      <td>418</td>\n",
       "    </tr>\n",
       "    <tr>\n",
       "      <th>1</th>\n",
       "      <td>England</td>\n",
       "      <td>20</td>\n",
       "      <td>2,370</td>\n",
       "      <td>418</td>\n",
       "    </tr>\n",
       "    <tr>\n",
       "      <th>2</th>\n",
       "      <td>South Africa</td>\n",
       "      <td>24</td>\n",
       "      <td>2,828</td>\n",
       "      <td>394</td>\n",
       "    </tr>\n",
       "    <tr>\n",
       "      <th>3</th>\n",
       "      <td>India</td>\n",
       "      <td>23</td>\n",
       "      <td>2,535</td>\n",
       "      <td>365</td>\n",
       "    </tr>\n",
       "    <tr>\n",
       "      <th>4</th>\n",
       "      <td>New Zealand</td>\n",
       "      <td>21</td>\n",
       "      <td>1,947</td>\n",
       "      <td>331</td>\n",
       "    </tr>\n",
       "    <tr>\n",
       "      <th>5</th>\n",
       "      <td>West Indies</td>\n",
       "      <td>17</td>\n",
       "      <td>1,427</td>\n",
       "      <td>307</td>\n",
       "    </tr>\n",
       "    <tr>\n",
       "      <th>6</th>\n",
       "      <td>Pakistan</td>\n",
       "      <td>20</td>\n",
       "      <td>1,496</td>\n",
       "      <td>252</td>\n",
       "    </tr>\n",
       "    <tr>\n",
       "      <th>7</th>\n",
       "      <td>Bangladesh</td>\n",
       "      <td>5</td>\n",
       "      <td>306</td>\n",
       "      <td>243</td>\n",
       "    </tr>\n",
       "    <tr>\n",
       "      <th>8</th>\n",
       "      <td>Sri Lanka</td>\n",
       "      <td>11</td>\n",
       "      <td>519</td>\n",
       "      <td>242</td>\n",
       "    </tr>\n",
       "    <tr>\n",
       "      <th>9</th>\n",
       "      <td>Ireland</td>\n",
       "      <td>2</td>\n",
       "      <td>25</td>\n",
       "      <td>239</td>\n",
       "    </tr>\n",
       "    <tr>\n",
       "      <th>10</th>\n",
       "      <td>NaN</td>\n",
       "      <td>NaN</td>\n",
       "      <td>NaN</td>\n",
       "      <td>236</td>\n",
       "    </tr>\n",
       "    <tr>\n",
       "      <th>11</th>\n",
       "      <td>NaN</td>\n",
       "      <td>NaN</td>\n",
       "      <td>NaN</td>\n",
       "      <td>215</td>\n",
       "    </tr>\n",
       "    <tr>\n",
       "      <th>12</th>\n",
       "      <td>NaN</td>\n",
       "      <td>NaN</td>\n",
       "      <td>NaN</td>\n",
       "      <td>215</td>\n",
       "    </tr>\n",
       "    <tr>\n",
       "      <th>13</th>\n",
       "      <td>NaN</td>\n",
       "      <td>NaN</td>\n",
       "      <td>NaN</td>\n",
       "      <td>195</td>\n",
       "    </tr>\n",
       "    <tr>\n",
       "      <th>14</th>\n",
       "      <td>NaN</td>\n",
       "      <td>NaN</td>\n",
       "      <td>NaN</td>\n",
       "      <td>181</td>\n",
       "    </tr>\n",
       "    <tr>\n",
       "      <th>15</th>\n",
       "      <td>NaN</td>\n",
       "      <td>NaN</td>\n",
       "      <td>NaN</td>\n",
       "      <td>179</td>\n",
       "    </tr>\n",
       "    <tr>\n",
       "      <th>16</th>\n",
       "      <td>NaN</td>\n",
       "      <td>NaN</td>\n",
       "      <td>NaN</td>\n",
       "      <td>176</td>\n",
       "    </tr>\n",
       "    <tr>\n",
       "      <th>17</th>\n",
       "      <td>NaN</td>\n",
       "      <td>NaN</td>\n",
       "      <td>NaN</td>\n",
       "      <td>164</td>\n",
       "    </tr>\n",
       "    <tr>\n",
       "      <th>18</th>\n",
       "      <td>NaN</td>\n",
       "      <td>NaN</td>\n",
       "      <td>NaN</td>\n",
       "      <td>153</td>\n",
       "    </tr>\n",
       "    <tr>\n",
       "      <th>19</th>\n",
       "      <td>NaN</td>\n",
       "      <td>NaN</td>\n",
       "      <td>NaN</td>\n",
       "      <td>149</td>\n",
       "    </tr>\n",
       "  </tbody>\n",
       "</table>\n",
       "</div>"
      ],
      "text/plain": [
       "      Woman_Team Matches Points Rating\n",
       "0      Australia      18  2,955    418\n",
       "1        England      20  2,370    418\n",
       "2   South Africa      24  2,828    394\n",
       "3          India      23  2,535    365\n",
       "4    New Zealand      21  1,947    331\n",
       "5    West Indies      17  1,427    307\n",
       "6       Pakistan      20  1,496    252\n",
       "7     Bangladesh       5    306    243\n",
       "8      Sri Lanka      11    519    242\n",
       "9        Ireland       2     25    239\n",
       "10           NaN     NaN    NaN    236\n",
       "11           NaN     NaN    NaN    215\n",
       "12           NaN     NaN    NaN    215\n",
       "13           NaN     NaN    NaN    195\n",
       "14           NaN     NaN    NaN    181\n",
       "15           NaN     NaN    NaN    179\n",
       "16           NaN     NaN    NaN    176\n",
       "17           NaN     NaN    NaN    164\n",
       "18           NaN     NaN    NaN    153\n",
       "19           NaN     NaN    NaN    149"
      ]
     },
     "execution_count": 114,
     "metadata": {},
     "output_type": "execute_result"
    }
   ],
   "source": [
    "Top10_ICC_ODI_Woman_Team = pd.concat([Woman_Team, Match, Point, Rating], axis = 1, sort= False)\n",
    "Top10_ICC_ODI_Woman_Team"
   ]
  },
  {
   "cell_type": "markdown",
   "id": "ab7a5ddc",
   "metadata": {},
   "source": [
    "ii) Top 10 women’s ODI players along with the records of their team and rating."
   ]
  },
  {
   "cell_type": "code",
   "execution_count": 74,
   "id": "15688053",
   "metadata": {},
   "outputs": [],
   "source": [
    "url = \"https://www.icc-cricket.com/rankings/womens/player-rankings/odi\""
   ]
  },
  {
   "cell_type": "markdown",
   "id": "b775dffc",
   "metadata": {},
   "source": [
    "iii) Top 10 women’s ODI all-rounder along with the records of their team and rating."
   ]
  },
  {
   "cell_type": "code",
   "execution_count": 75,
   "id": "9a5e3716",
   "metadata": {},
   "outputs": [],
   "source": [
    "url = \"https://www.icc-cricket.com/rankings/womens/player-rankings/odi/all-rounder\""
   ]
  },
  {
   "cell_type": "code",
   "execution_count": 76,
   "id": "03b41c24",
   "metadata": {},
   "outputs": [
    {
     "name": "stdout",
     "output_type": "stream",
     "text": [
      "<Response [200]>\n"
     ]
    }
   ],
   "source": [
    "soup = verify_url(url)"
   ]
  },
  {
   "cell_type": "code",
   "execution_count": 77,
   "id": "6803a3ee",
   "metadata": {},
   "outputs": [],
   "source": [
    "all_rounder1 = soup.find_all(\"div\", class_=\"rankings-block__banner--name-large\")\n",
    "team1 = soup.find_all(\"div\", class_=\"rankings-block__banner--nationality\")\n",
    "rating1 = soup.find_all(\"div\", class_=\"rankings-block__banner--rating\")"
   ]
  },
  {
   "cell_type": "code",
   "execution_count": 78,
   "id": "75dbcc20",
   "metadata": {},
   "outputs": [],
   "source": [
    "all_rounder2 = soup.find_all(\"td\", class_=\"table-body__cell rankings-table__name name\")\n",
    "team2 = soup.find_all(\"span\", class_=\"table-body__logo-text\")\n",
    "rating2 = soup.find_all(\"td\", class_=\"table-body__cell rating\")\n",
    "\n",
    "all_rounder = all_rounder1 + all_rounder2\n",
    "team = team1 + team2\n",
    "rating = rating1+rating2"
   ]
  },
  {
   "cell_type": "code",
   "execution_count": 79,
   "id": "82603676",
   "metadata": {},
   "outputs": [],
   "source": [
    "All_Rounder = []\n",
    "\n",
    "for i in all_rounder:\n",
    "    All_Rounder.append(i.text.replace(\"\\n\",\" \").strip())"
   ]
  },
  {
   "cell_type": "code",
   "execution_count": 80,
   "id": "1b80d04a",
   "metadata": {},
   "outputs": [],
   "source": [
    "Team = []\n",
    "\n",
    "for i in team:\n",
    "    Team.append(i.text.replace(\"\\n\",\" \").strip())"
   ]
  },
  {
   "cell_type": "code",
   "execution_count": 81,
   "id": "8ac86895",
   "metadata": {},
   "outputs": [],
   "source": [
    "Rating = []\n",
    "\n",
    "for i in rating:\n",
    "    Rating.append(i.text.replace(\"\\n\",\" \").strip())"
   ]
  },
  {
   "cell_type": "code",
   "execution_count": 82,
   "id": "82f8bc0b",
   "metadata": {},
   "outputs": [
    {
     "data": {
      "text/html": [
       "<div>\n",
       "<style scoped>\n",
       "    .dataframe tbody tr th:only-of-type {\n",
       "        vertical-align: middle;\n",
       "    }\n",
       "\n",
       "    .dataframe tbody tr th {\n",
       "        vertical-align: top;\n",
       "    }\n",
       "\n",
       "    .dataframe thead th {\n",
       "        text-align: right;\n",
       "    }\n",
       "</style>\n",
       "<table border=\"1\" class=\"dataframe\">\n",
       "  <thead>\n",
       "    <tr style=\"text-align: right;\">\n",
       "      <th></th>\n",
       "      <th>ODI All-Rounder Player</th>\n",
       "      <th>Team</th>\n",
       "      <th>Rating</th>\n",
       "    </tr>\n",
       "  </thead>\n",
       "  <tbody>\n",
       "    <tr>\n",
       "      <th>0</th>\n",
       "      <td>Marizanne Kapp</td>\n",
       "      <td>SA</td>\n",
       "      <td>418</td>\n",
       "    </tr>\n",
       "    <tr>\n",
       "      <th>1</th>\n",
       "      <td>Ellyse Perry</td>\n",
       "      <td>AUS</td>\n",
       "      <td>418</td>\n",
       "    </tr>\n",
       "    <tr>\n",
       "      <th>2</th>\n",
       "      <td>Stafanie Taylor</td>\n",
       "      <td>WI</td>\n",
       "      <td>394</td>\n",
       "    </tr>\n",
       "    <tr>\n",
       "      <th>3</th>\n",
       "      <td>Natalie Sciver</td>\n",
       "      <td>ENG</td>\n",
       "      <td>365</td>\n",
       "    </tr>\n",
       "    <tr>\n",
       "      <th>4</th>\n",
       "      <td>Deepti Sharma</td>\n",
       "      <td>IND</td>\n",
       "      <td>331</td>\n",
       "    </tr>\n",
       "    <tr>\n",
       "      <th>5</th>\n",
       "      <td>Jess Jonassen</td>\n",
       "      <td>AUS</td>\n",
       "      <td>307</td>\n",
       "    </tr>\n",
       "    <tr>\n",
       "      <th>6</th>\n",
       "      <td>Ashleigh Gardner</td>\n",
       "      <td>AUS</td>\n",
       "      <td>252</td>\n",
       "    </tr>\n",
       "    <tr>\n",
       "      <th>7</th>\n",
       "      <td>Dane van Niekerk</td>\n",
       "      <td>SA</td>\n",
       "      <td>243</td>\n",
       "    </tr>\n",
       "    <tr>\n",
       "      <th>8</th>\n",
       "      <td>Sophie Devine</td>\n",
       "      <td>NZ</td>\n",
       "      <td>242</td>\n",
       "    </tr>\n",
       "    <tr>\n",
       "      <th>9</th>\n",
       "      <td>Katherine Brunt</td>\n",
       "      <td>ENG</td>\n",
       "      <td>239</td>\n",
       "    </tr>\n",
       "  </tbody>\n",
       "</table>\n",
       "</div>"
      ],
      "text/plain": [
       "  ODI All-Rounder Player Team Rating\n",
       "0         Marizanne Kapp   SA    418\n",
       "1           Ellyse Perry  AUS    418\n",
       "2        Stafanie Taylor   WI    394\n",
       "3         Natalie Sciver  ENG    365\n",
       "4          Deepti Sharma  IND    331\n",
       "5          Jess Jonassen  AUS    307\n",
       "6       Ashleigh Gardner  AUS    252\n",
       "7       Dane van Niekerk   SA    243\n",
       "8          Sophie Devine   NZ    242\n",
       "9        Katherine Brunt  ENG    239"
      ]
     },
     "execution_count": 82,
     "metadata": {},
     "output_type": "execute_result"
    }
   ],
   "source": [
    "Top10_ICC_Woman_ODI_All_Rounder=pd.DataFrame({})\n",
    "Top10_ICC_Woman_ODI_All_Rounder['ODI All-Rounder Player']=All_Rounder[:10]\n",
    "Top10_ICC_Woman_ODI_All_Rounder['Team']=Team [:10]\n",
    "Top10_ICC_Woman_ODI_All_Rounder['Rating']=Rating[:10]\n",
    "\n",
    "Top10_ICC_Woman_ODI_All_Rounder"
   ]
  },
  {
   "cell_type": "markdown",
   "id": "97196998",
   "metadata": {},
   "source": [
    "# 7. Write a python program to scrape details of all the mobile phones under Rs. 20,000 listed on Amazon.in. The scraped data should include Product Name, Price, Image URL and Average Rating."
   ]
  },
  {
   "cell_type": "code",
   "execution_count": 115,
   "id": "86a89972",
   "metadata": {},
   "outputs": [],
   "source": [
    "#url = \"\"\n",
    "#soup = verify_url(url)"
   ]
  },
  {
   "cell_type": "markdown",
   "id": "e2302d40",
   "metadata": {},
   "source": [
    "# 8. Write a python program to extract information about the local weather from the National Weather Service website of USA, https://www.weather.gov/ for the city, San Francisco. You need to extract data about 7 day extended forecast display for the city. The data should include period, short description, temperature and description"
   ]
  },
  {
   "cell_type": "code",
   "execution_count": null,
   "id": "6e84729a",
   "metadata": {},
   "outputs": [],
   "source": [
    "url = \"\"\n",
    "soup = verify_url(url)"
   ]
  },
  {
   "cell_type": "markdown",
   "id": "cd9ece4d",
   "metadata": {},
   "source": [
    "# 9. Write a python program to scrape fresher job listings from ‘https://internshala.com/’. It should include job title, company name, CTC, and apply date."
   ]
  },
  {
   "cell_type": "code",
   "execution_count": null,
   "id": "8bbce3ee",
   "metadata": {},
   "outputs": [],
   "source": [
    "url = \"https://internshala.com/fresher-jobs\"\n",
    "soup = verify_url(url)"
   ]
  },
  {
   "cell_type": "code",
   "execution_count": null,
   "id": "4582ada6",
   "metadata": {},
   "outputs": [],
   "source": [
    "#title = soup.find_all(\"div\", class_=\"heading_4_5 profile\")\n",
    "#company_name = soup.find_all(\"div\", class_=\"heading_6 company_name\")\n",
    "ctc = soup.find_all(\"div\", class_=\"item_body\")\n",
    "ctc"
   ]
  },
  {
   "cell_type": "code",
   "execution_count": null,
   "id": "dcd70ec4",
   "metadata": {},
   "outputs": [],
   "source": [
    "Title = []\n",
    "\n",
    "for i in title:\n",
    "    Title.append(i.text.replace(\"\\n\",\" \").strip())\n",
    "    \n",
    "Title"
   ]
  },
  {
   "cell_type": "code",
   "execution_count": null,
   "id": "f9e50eac",
   "metadata": {},
   "outputs": [],
   "source": [
    "Company_Name = []\n",
    "\n",
    "for i in company_name:\n",
    "    Company_Name.append(i.text.replace(\"\\n\",\" \").strip())\n",
    "    \n",
    "Company_Name"
   ]
  },
  {
   "cell_type": "code",
   "execution_count": null,
   "id": "69f30b2e",
   "metadata": {},
   "outputs": [],
   "source": [
    "CTC = []\n",
    "\n",
    "for i in ctc:\n",
    "    CTC.append(i.text.replace(\"\\n\",\" \").strip())\n",
    "CTC = CTC[::2]\n",
    "\n",
    "CTC"
   ]
  },
  {
   "cell_type": "code",
   "execution_count": null,
   "id": "c231258e",
   "metadata": {},
   "outputs": [],
   "source": []
  },
  {
   "cell_type": "markdown",
   "id": "e6283e29",
   "metadata": {},
   "source": [
    "# 10. Write a python program to scrape house details from https://www.nobroker.in/ for any location. It should include house title, location, area, emi and price"
   ]
  },
  {
   "cell_type": "code",
   "execution_count": null,
   "id": "4574dc4a",
   "metadata": {},
   "outputs": [],
   "source": []
  },
  {
   "cell_type": "code",
   "execution_count": null,
   "id": "242b5cf4",
   "metadata": {},
   "outputs": [],
   "source": []
  }
 ],
 "metadata": {
  "kernelspec": {
   "display_name": "Python 3",
   "language": "python",
   "name": "python3"
  },
  "language_info": {
   "codemirror_mode": {
    "name": "ipython",
    "version": 3
   },
   "file_extension": ".py",
   "mimetype": "text/x-python",
   "name": "python",
   "nbconvert_exporter": "python",
   "pygments_lexer": "ipython3",
   "version": "3.8.8"
  }
 },
 "nbformat": 4,
 "nbformat_minor": 5
}
